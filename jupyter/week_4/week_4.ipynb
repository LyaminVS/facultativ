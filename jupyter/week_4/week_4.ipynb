{
 "cells": [
  {
   "cell_type": "code",
   "execution_count": 1,
   "id": "d7766825",
   "metadata": {},
   "outputs": [],
   "source": [
    "import numpy as np\n",
    "import matplotlib.pyplot as plt\n",
    "import subprocess"
   ]
  },
  {
   "cell_type": "code",
   "execution_count": null,
   "id": "7509f05f",
   "metadata": {
    "scrolled": true
   },
   "outputs": [],
   "source": [
    "subprocess.call([\"../../facultative_cpp/cpp_5_week/3ex/3ex/main\"])"
   ]
  },
  {
   "cell_type": "code",
   "execution_count": null,
   "id": "c6d7c482",
   "metadata": {},
   "outputs": [],
   "source": [
    "%matplotlib notebook\n",
    "data = np.fromfile(\"output.bin\").reshape((-1, 2)).transpose()\n",
    "fig, ax = plt.subplots(1, 1)\n",
    "print(data)\n",
    "ax.set_xlim(0, 20)\n",
    "ax.set_ylim(-1, 1)\n",
    "fig.set_size_inches(8,8)\n",
    "ax.plot(data[0], data[1])"
   ]
  },
  {
   "cell_type": "code",
   "execution_count": null,
   "id": "f96b5d01",
   "metadata": {},
   "outputs": [],
   "source": []
  },
  {
   "cell_type": "code",
   "execution_count": null,
   "id": "e1dd0084",
   "metadata": {},
   "outputs": [],
   "source": []
  }
 ],
 "metadata": {
  "kernelspec": {
   "display_name": "Python 3",
   "language": "python",
   "name": "python3"
  },
  "language_info": {
   "codemirror_mode": {
    "name": "ipython",
    "version": 3
   },
   "file_extension": ".py",
   "mimetype": "text/x-python",
   "name": "python",
   "nbconvert_exporter": "python",
   "pygments_lexer": "ipython3",
   "version": "3.8.8"
  }
 },
 "nbformat": 4,
 "nbformat_minor": 5
}
