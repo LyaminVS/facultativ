{
 "cells": [
  {
   "cell_type": "code",
   "execution_count": 45,
   "id": "0c188074",
   "metadata": {},
   "outputs": [],
   "source": [
    "from sympy.physics.mechanics import *\n",
    "from sympy import symbols, cos, sin\n",
    "import sympy\n",
    "q1, q2 = dynamicsymbols('q1 q2')\n",
    "q1d, q2d = dynamicsymbols('q1 q2', 1)\n",
    "l, m, g = symbols('l m g')\n",
    "L = m * l**2 * q1d**2 / 2 + m * g * l * cos(q1) + m * l**2 * q1d**2 / 2 + m * l**2 * q2d**2 / 2 + 2 * l**2 * q1d * q2d * (cos(q2 - q1)) + m * g * l * (cos(q1) + cos(q2))\n",
    "\n",
    "# L = q1d**2 / 2 + cos(q1d) + q1d**2 / 2 + q2d**2 / 2 + 2 * q1d * q2d * (cos(q2 - q1)) + (cos(q1) + cos(q2))\n"
   ]
  },
  {
   "cell_type": "code",
   "execution_count": 46,
   "id": "c5427a7c",
   "metadata": {},
   "outputs": [],
   "source": [
    "LM = LagrangesMethod(L, [q1, q2])"
   ]
  },
  {
   "cell_type": "code",
   "execution_count": 47,
   "id": "ab0a35d8",
   "metadata": {},
   "outputs": [
    {
     "data": {
      "text/latex": [
       "$\\displaystyle \\left[\\begin{matrix}2 l^{2} m & 2 l^{2} \\cos{\\left(\\operatorname{q_{1}}{\\left(t \\right)} - \\operatorname{q_{2}}{\\left(t \\right)} \\right)}\\\\2 l^{2} \\cos{\\left(\\operatorname{q_{1}}{\\left(t \\right)} - \\operatorname{q_{2}}{\\left(t \\right)} \\right)} & l^{2} m\\end{matrix}\\right]$"
      ],
      "text/plain": [
       "Matrix([\n",
       "[                 2*l**2*m, 2*l**2*cos(q1(t) - q2(t))],\n",
       "[2*l**2*cos(q1(t) - q2(t)),                    l**2*m]])"
      ]
     },
     "execution_count": 47,
     "metadata": {},
     "output_type": "execute_result"
    }
   ],
   "source": [
    "sympy.simplify(LM.form_lagranges_equations())\n",
    "LM.mass_matrix"
   ]
  },
  {
   "cell_type": "code",
   "execution_count": 36,
   "id": "a8f6415d",
   "metadata": {},
   "outputs": [],
   "source": [
    "q1, q2 = dynamicsymbols('q1 q2')\n",
    "q1d, q2d = dynamicsymbols('q1 q2', 1)\n",
    "L = q1d**2 + q2d**2"
   ]
  },
  {
   "cell_type": "code",
   "execution_count": 40,
   "id": "773f73d1",
   "metadata": {},
   "outputs": [],
   "source": [
    "LM = LagrangesMethod(L, [q1, q2])"
   ]
  },
  {
   "cell_type": "code",
   "execution_count": 41,
   "id": "586b7b69",
   "metadata": {},
   "outputs": [
    {
     "data": {
      "text/latex": [
       "$\\displaystyle \\operatorname{q_{1}}{\\left(t \\right)}$"
      ],
      "text/plain": [
       "q1(t)"
      ]
     },
     "execution_count": 41,
     "metadata": {},
     "output_type": "execute_result"
    }
   ],
   "source": [
    "q1 "
   ]
  },
  {
   "cell_type": "code",
   "execution_count": 43,
   "id": "2bbaf972",
   "metadata": {},
   "outputs": [
    {
     "data": {
      "text/latex": [
       "$\\displaystyle \\left[\\begin{matrix}2 \\frac{d^{2}}{d t^{2}} \\operatorname{q_{1}}{\\left(t \\right)}\\\\2 \\frac{d^{2}}{d t^{2}} \\operatorname{q_{2}}{\\left(t \\right)}\\end{matrix}\\right]$"
      ],
      "text/plain": [
       "Matrix([\n",
       "[2*Derivative(q1(t), (t, 2))],\n",
       "[2*Derivative(q2(t), (t, 2))]])"
      ]
     },
     "execution_count": 43,
     "metadata": {},
     "output_type": "execute_result"
    }
   ],
   "source": [
    "LM.form_lagranges_equations()"
   ]
  },
  {
   "cell_type": "code",
   "execution_count": 44,
   "id": "c68d7da6",
   "metadata": {},
   "outputs": [
    {
     "data": {
      "text/latex": [
       "$\\displaystyle \\left[\\begin{matrix}2 & 0\\\\0 & 2\\end{matrix}\\right]$"
      ],
      "text/plain": [
       "Matrix([\n",
       "[2, 0],\n",
       "[0, 2]])"
      ]
     },
     "execution_count": 44,
     "metadata": {},
     "output_type": "execute_result"
    }
   ],
   "source": [
    "LM.mass_matrix"
   ]
  },
  {
   "cell_type": "code",
   "execution_count": null,
   "id": "adfda135",
   "metadata": {},
   "outputs": [],
   "source": []
  },
  {
   "cell_type": "code",
   "execution_count": null,
   "id": "0ced9f2a",
   "metadata": {},
   "outputs": [],
   "source": []
  }
 ],
 "metadata": {
  "kernelspec": {
   "display_name": "Python 3",
   "language": "python",
   "name": "python3"
  },
  "language_info": {
   "codemirror_mode": {
    "name": "ipython",
    "version": 3
   },
   "file_extension": ".py",
   "mimetype": "text/x-python",
   "name": "python",
   "nbconvert_exporter": "python",
   "pygments_lexer": "ipython3",
   "version": "3.8.8"
  }
 },
 "nbformat": 4,
 "nbformat_minor": 5
}
