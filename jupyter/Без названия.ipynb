{
 "cells": [
  {
   "cell_type": "code",
   "execution_count": 2,
   "id": "f965c888",
   "metadata": {},
   "outputs": [
    {
     "ename": "ModuleNotFoundError",
     "evalue": "No module named 'QAOAQuquarts'",
     "output_type": "error",
     "traceback": [
      "\u001b[0;31m---------------------------------------------------------------------------\u001b[0m",
      "\u001b[0;31mModuleNotFoundError\u001b[0m                       Traceback (most recent call last)",
      "\u001b[0;32m/var/folders/y3/19gt23yd4zg9k93kytyfqj2w0000gn/T/ipykernel_29540/561710955.py\u001b[0m in \u001b[0;36m<module>\u001b[0;34m\u001b[0m\n\u001b[0;32m----> 1\u001b[0;31m \u001b[0;32mimport\u001b[0m \u001b[0mQAOAQuquarts\u001b[0m\u001b[0;34m\u001b[0m\u001b[0;34m\u001b[0m\u001b[0m\n\u001b[0m\u001b[1;32m      2\u001b[0m \u001b[0;32mimport\u001b[0m \u001b[0mnetworkx\u001b[0m \u001b[0;32mas\u001b[0m \u001b[0mnx\u001b[0m\u001b[0;34m\u001b[0m\u001b[0;34m\u001b[0m\u001b[0m\n\u001b[1;32m      3\u001b[0m \u001b[0;32mimport\u001b[0m \u001b[0mnumpy\u001b[0m \u001b[0;32mas\u001b[0m \u001b[0mnp\u001b[0m\u001b[0;34m\u001b[0m\u001b[0;34m\u001b[0m\u001b[0m\n\u001b[1;32m      4\u001b[0m \u001b[0;32mimport\u001b[0m \u001b[0mscipy\u001b[0m\u001b[0;34m\u001b[0m\u001b[0;34m\u001b[0m\u001b[0m\n",
      "\u001b[0;31mModuleNotFoundError\u001b[0m: No module named 'QAOAQuquarts'"
     ]
    }
   ],
   "source": [
    "import QAOAQuquarts\n",
    "import networkx as nx\n",
    "import numpy as np\n",
    "import scipy"
   ]
  },
  {
   "cell_type": "code",
   "execution_count": null,
   "id": "3188e805",
   "metadata": {},
   "outputs": [],
   "source": [
    "G = nx.Graph()\n",
    "n = 4\n",
    "G.add_nodes_from([i for i in range(0, n)])\n",
    "G.add_edges_from([(i, (i + 1) % n) for i in range(0, n)])\n",
    "solver = QAOAQuquarts.MAXCUTSolver(4, layers=10, graph=G)\n",
    "solver.draw_graph()\n"
   ]
  },
  {
   "cell_type": "code",
   "execution_count": null,
   "id": "ad516e8a",
   "metadata": {},
   "outputs": [],
   "source": [
    "solver.draw_circuit()\n"
   ]
  },
  {
   "cell_type": "code",
   "execution_count": null,
   "id": "18dab64a",
   "metadata": {},
   "outputs": [],
   "source": [
    "solver.solve()\n"
   ]
  },
  {
   "cell_type": "code",
   "execution_count": null,
   "id": "f2d2cf9b",
   "metadata": {},
   "outputs": [],
   "source": [
    "solver.get_hist(0.4)"
   ]
  },
  {
   "cell_type": "code",
   "execution_count": null,
   "id": "f4264dda",
   "metadata": {
    "scrolled": true
   },
   "outputs": [],
   "source": [
    "solver.get_colored_graph()"
   ]
  },
  {
   "cell_type": "code",
   "execution_count": null,
   "id": "738b772f",
   "metadata": {},
   "outputs": [],
   "source": [
    "solver.get_best_params()"
   ]
  },
  {
   "cell_type": "code",
   "execution_count": null,
   "id": "24c733d8",
   "metadata": {},
   "outputs": [],
   "source": [
    "\n"
   ]
  },
  {
   "cell_type": "code",
   "execution_count": null,
   "id": "5143cbbf",
   "metadata": {},
   "outputs": [],
   "source": [
    "\n"
   ]
  }
 ],
 "metadata": {
  "kernelspec": {
   "display_name": "Python 3",
   "language": "python",
   "name": "python3"
  },
  "language_info": {
   "codemirror_mode": {
    "name": "ipython",
    "version": 3
   },
   "file_extension": ".py",
   "mimetype": "text/x-python",
   "name": "python",
   "nbconvert_exporter": "python",
   "pygments_lexer": "ipython3",
   "version": "3.8.8"
  }
 },
 "nbformat": 4,
 "nbformat_minor": 5
}
