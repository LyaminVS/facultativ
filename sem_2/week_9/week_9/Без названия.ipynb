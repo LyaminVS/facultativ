{
 "cells": [
  {
   "cell_type": "code",
   "execution_count": 2,
   "id": "8125b860",
   "metadata": {},
   "outputs": [],
   "source": [
    "import numpy as np\n",
    "import matplotlib.pyplot as plt\n",
    "import matplotlib.animation as animation\n",
    "from matplotlib.animation import FuncAnimation\n",
    "from functools import partial\n",
    "import subprocess\n",
    "import json\n",
    "import time"
   ]
  },
  {
   "cell_type": "code",
   "execution_count": 3,
   "id": "70a10ffa",
   "metadata": {},
   "outputs": [],
   "source": [
    "# !g++ --std=c++17 -Xclang -fopenmp test.cpp -o test -I/opt/homebrew/opt/libomp/include -L/opt/homebrew/opt/libomp/lib -lomp "
   ]
  },
  {
   "cell_type": "code",
   "execution_count": 4,
   "id": "604cba65",
   "metadata": {},
   "outputs": [],
   "source": [
    "# !export LDFLAGS=\"-L/opt/homebrew/opt/libomp/lib\"\n",
    "# !export CPPFLAGS=\"-I/opt/homebrew/opt/libomp/include\"\n",
    "# !g++ --std=c++17 -Xclang -fopenmp main.cpp -o main -I/opt/homebrew/opt/libomp/include -L/opt/homebrew/opt/libomp/lib -lomp "
   ]
  },
  {
   "cell_type": "code",
   "execution_count": 5,
   "id": "0de8a973",
   "metadata": {},
   "outputs": [],
   "source": [
    "#   export LDFLAGS=\"-L/opt/homebrew/opt/libomp/lib\"\n",
    "#   export CPPFLAGS=\"-I/opt/homebrew/opt/libomp/include\""
   ]
  },
  {
   "cell_type": "code",
   "execution_count": 14,
   "id": "052a5983",
   "metadata": {
    "scrolled": false
   },
   "outputs": [],
   "source": [
    "!g++-12 --std=c++17 -fopenmp main.cpp -o main \n",
    "# !g++-12 fopenmp=libompmain.cpp -o main \n",
    "f = open(\"data.json\", \"w\")\n",
    "width = 1000\n",
    "height = 1000\n",
    "left_boundaries = [0] * 1000\n",
    "right_boundaries = [1] * 1000\n",
    "iteration_number = 100000\n",
    "json.dump({\n",
    "    \"width\": str(width),\n",
    "    \"height\": str(height),\n",
    "    \"left_boundaries\": list(map(str, left_boundaries)),\n",
    "    \"right_boundaries\": list(map(str, right_boundaries)),\n",
    "    \"iteration_number\": str(iteration_number)\n",
    "}, f)\n",
    "f.close()"
   ]
  },
  {
   "cell_type": "code",
   "execution_count": null,
   "id": "52284d44",
   "metadata": {},
   "outputs": [],
   "source": [
    "a = time.time()\n",
    "subprocess.call([\"./main\", \"data.json\"])\n",
    "print(time.time() - a)"
   ]
  },
  {
   "cell_type": "code",
   "execution_count": null,
   "id": "20aed302",
   "metadata": {
    "scrolled": false
   },
   "outputs": [],
   "source": [
    "data = np.loadtxt(\"test.txt\")\n",
    "# print(data.reshape(4, 4, -1))\n",
    "# plt.plot(np.arange(4), data.reshape(4, 4)[:, 0])"
   ]
  },
  {
   "cell_type": "code",
   "execution_count": null,
   "id": "3cc3b519",
   "metadata": {},
   "outputs": [],
   "source": [
    "plt.plot(np.arange(width), data.reshape(width, height)[:, 0])"
   ]
  },
  {
   "cell_type": "code",
   "execution_count": 58,
   "id": "03f70033",
   "metadata": {},
   "outputs": [
    {
     "data": {
      "text/plain": [
       "<matplotlib.image.AxesImage at 0x7fc9508aa580>"
      ]
     },
     "execution_count": 58,
     "metadata": {},
     "output_type": "execute_result"
    },
    {
     "data": {
      "image/png": "[encoded data removed]",
      "text/plain": [
       "<Figure size 432x288 with 1 Axes>"
      ]
     },
     "metadata": {
      "needs_background": "light"
     },
     "output_type": "display_data"
    }
   ],
   "source": [
    "plt.imshow(data[-1].reshape(width, height))"
   ]
  },
  {
   "cell_type": "code",
   "execution_count": 18,
   "id": "e9ef1790",
   "metadata": {},
   "outputs": [],
   "source": [
    "\n",
    "# fig = plt.figure()\n",
    "# im=plt.imshow(data[0].reshape(width, height),interpolation='none')\n",
    "# def init():\n",
    "#     im.set_data(data[0].reshape(width, height))\n",
    "#     return [im]\n",
    "\n",
    "# def animate(i):\n",
    "#     im.set_array(data[i].reshape(width, height))\n",
    "#     return [im]\n",
    "\n",
    "# anim = animation.FuncAnimation(\n",
    "#                                fig, \n",
    "#                                animate, \n",
    "#                                frames = iteration_number,\n",
    "#                                interval = 100, # in ms\n",
    "#                                )\n",
    "# anim.save('anim.mp4', fps=120, extra_args=['-vcodec', 'libx264'])\n"
   ]
  },
  {
   "cell_type": "code",
   "execution_count": 19,
   "id": "46e64e7e",
   "metadata": {},
   "outputs": [
    {
     "data": {
      "text/plain": [
       "[<matplotlib.lines.Line2D at 0x7fca50675400>]"
      ]
     },
     "execution_count": 19,
     "metadata": {},
     "output_type": "execute_result"
    },
    {
     "data": {
      "image/png": "[encoded data removed]",
      "text/plain": [
       "<Figure size 432x288 with 1 Axes>"
      ]
     },
     "metadata": {
      "needs_background": "light"
     },
     "output_type": "display_data"
    }
   ],
   "source": [
    "plt.plot(np.arange(width), data[-1].reshape(width, height)[:, 0])"
   ]
  },
  {
   "cell_type": "code",
   "execution_count": null,
   "id": "62e420b2",
   "metadata": {},
   "outputs": [],
   "source": []
  },
  {
   "cell_type": "code",
   "execution_count": null,
   "id": "709f8f62",
   "metadata": {},
   "outputs": [],
   "source": []
  },
  {
   "cell_type": "code",
   "execution_count": null,
   "id": "388b4b32",
   "metadata": {},
   "outputs": [],
   "source": []
  }
 ],
 "metadata": {
  "kernelspec": {
   "display_name": "Python 3",
   "language": "python",
   "name": "python3"
  },
  "language_info": {
   "codemirror_mode": {
    "name": "ipython",
    "version": 3
   },
   "file_extension": ".py",
   "mimetype": "text/x-python",
   "name": "python",
   "nbconvert_exporter": "python",
   "pygments_lexer": "ipython3",
   "version": "3.8.8"
  }
 },
 "nbformat": 4,
 "nbformat_minor": 5
}
